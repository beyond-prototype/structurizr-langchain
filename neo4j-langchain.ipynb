{
 "cells": [
  {
   "cell_type": "markdown",
   "id": "b0532eb7",
   "metadata": {},
   "source": [
    "### Check Dependencies"
   ]
  },
  {
   "cell_type": "code",
   "execution_count": 23,
   "id": "9ec40f4d",
   "metadata": {},
   "outputs": [],
   "source": [
    "!pip3 install --upgrade --quiet langchain langchain-community langchain-openai langchain_mistralai neo4j tiktoken\n",
    "\n",
    "# !pip3 show langchain neo4j langchain_mistralai"
   ]
  },
  {
   "cell_type": "markdown",
   "id": "57fe23fb",
   "metadata": {},
   "source": [
    "### Load environment variables"
   ]
  },
  {
   "cell_type": "code",
   "execution_count": 24,
   "id": "a1218f28",
   "metadata": {},
   "outputs": [
    {
     "name": "stdout",
     "output_type": "stream",
     "text": [
      "NEO4J_URI = bolt://localhost:7687\n",
      "NEO4J_USERNAME = neo4j\n",
      "NEO4J_PASSWORD = neo4j123\n"
     ]
    }
   ],
   "source": [
    "from dotenv import load_dotenv\n",
    "import os\n",
    "load_dotenv()\n",
    "\n",
    "print(\"NEO4J_URI = \" + os.getenv(\"NEO4J_URI\"))\n",
    "print(\"NEO4J_USERNAME = \" + os.getenv(\"NEO4J_USERNAME\"))\n",
    "print(\"NEO4J_PASSWORD = \" + os.getenv(\"NEO4J_PASSWORD\"))"
   ]
  },
  {
   "cell_type": "markdown",
   "id": "0f4595a8",
   "metadata": {},
   "source": [
    "### Create Neo4jGraph\n",
    "\n",
    "Make sure the Neo4j instance is running and the environment variables are set correctly."
   ]
  },
  {
   "cell_type": "code",
   "execution_count": 25,
   "id": "b87033b3",
   "metadata": {},
   "outputs": [],
   "source": [
    "from langchain_community.graphs import Neo4jGraph\n",
    "graph = Neo4jGraph()\n",
    "# graph = Neo4jGraph(url=\"bolt://localhost:7687\", username=\"neo4j\", password=\"neo4j123\")\n"
   ]
  },
  {
   "cell_type": "markdown",
   "id": "ee99103f",
   "metadata": {},
   "source": [
    "### Check graph schema"
   ]
  },
  {
   "cell_type": "code",
   "execution_count": 26,
   "id": "39f09c26",
   "metadata": {},
   "outputs": [
    {
     "data": {
      "text/plain": [
       "'Node properties are the following:\\nPerson {name: STRING, tags: STRING, description: STRING},SoftwareSystem {description: STRING, tags: STRING, name: STRING},Container {name: STRING, tags: STRING, description: STRING},Component {name: STRING, tags: STRING, description: STRING}\\nRelationship properties are the following:\\nUses {description: STRING}\\nThe relationships are the following:\\n(:Person)-[:Uses]->(:Container),(:Person)-[:Uses]->(:SoftwareSystem),(:Person)-[:Uses]->(:Person),(:SoftwareSystem)-[:Uses]->(:Person),(:SoftwareSystem)-[:Uses]->(:SoftwareSystem),(:SoftwareSystem)-[:Contains]->(:Container),(:Container)-[:Uses]->(:Component),(:Container)-[:Uses]->(:Container),(:Container)-[:Uses]->(:SoftwareSystem),(:Container)-[:Contains]->(:Component),(:Component)-[:Uses]->(:Component),(:Component)-[:Uses]->(:Container),(:Component)-[:Uses]->(:SoftwareSystem)'"
      ]
     },
     "execution_count": 26,
     "metadata": {},
     "output_type": "execute_result"
    }
   ],
   "source": [
    "graph.schema"
   ]
  },
  {
   "cell_type": "code",
   "execution_count": 27,
   "id": "287ca85b",
   "metadata": {},
   "outputs": [
    {
     "data": {
      "text/plain": [
       "{'node_props': {'Person': [{'property': 'name', 'type': 'STRING'},\n",
       "   {'property': 'tags', 'type': 'STRING'},\n",
       "   {'property': 'description', 'type': 'STRING'}],\n",
       "  'SoftwareSystem': [{'property': 'description', 'type': 'STRING'},\n",
       "   {'property': 'tags', 'type': 'STRING'},\n",
       "   {'property': 'name', 'type': 'STRING'}],\n",
       "  'Container': [{'property': 'name', 'type': 'STRING'},\n",
       "   {'property': 'tags', 'type': 'STRING'},\n",
       "   {'property': 'description', 'type': 'STRING'}],\n",
       "  'Component': [{'property': 'name', 'type': 'STRING'},\n",
       "   {'property': 'tags', 'type': 'STRING'},\n",
       "   {'property': 'description', 'type': 'STRING'}]},\n",
       " 'rel_props': {'Uses': [{'property': 'description', 'type': 'STRING'}]},\n",
       " 'relationships': [{'start': 'Person', 'type': 'Uses', 'end': 'Container'},\n",
       "  {'start': 'Person', 'type': 'Uses', 'end': 'SoftwareSystem'},\n",
       "  {'start': 'Person', 'type': 'Uses', 'end': 'Person'},\n",
       "  {'start': 'SoftwareSystem', 'type': 'Uses', 'end': 'Person'},\n",
       "  {'start': 'SoftwareSystem', 'type': 'Uses', 'end': 'SoftwareSystem'},\n",
       "  {'start': 'SoftwareSystem', 'type': 'Contains', 'end': 'Container'},\n",
       "  {'start': 'Container', 'type': 'Uses', 'end': 'Component'},\n",
       "  {'start': 'Container', 'type': 'Uses', 'end': 'Container'},\n",
       "  {'start': 'Container', 'type': 'Uses', 'end': 'SoftwareSystem'},\n",
       "  {'start': 'Container', 'type': 'Contains', 'end': 'Component'},\n",
       "  {'start': 'Component', 'type': 'Uses', 'end': 'Component'},\n",
       "  {'start': 'Component', 'type': 'Uses', 'end': 'Container'},\n",
       "  {'start': 'Component', 'type': 'Uses', 'end': 'SoftwareSystem'}],\n",
       " 'metadata': {'constraint': [],\n",
       "  'index': [{'id': 1,\n",
       "    'name': 'index_343aff4e',\n",
       "    'state': 'ONLINE',\n",
       "    'populationPercent': 100.0,\n",
       "    'uniqueness': 'NONUNIQUE',\n",
       "    'type': 'LOOKUP',\n",
       "    'entityType': 'NODE',\n",
       "    'labelsOrTypes': None,\n",
       "    'properties': None,\n",
       "    'indexProvider': 'token-lookup-1.0',\n",
       "    'options': {'indexProvider': 'token-lookup-1.0', 'indexConfig': {}},\n",
       "    'failureMessage': '',\n",
       "    'createStatement': 'CREATE LOOKUP INDEX `index_343aff4e` FOR (n) ON EACH labels(n)'},\n",
       "   {'id': 2,\n",
       "    'name': 'index_f7700477',\n",
       "    'state': 'ONLINE',\n",
       "    'populationPercent': 100.0,\n",
       "    'uniqueness': 'NONUNIQUE',\n",
       "    'type': 'LOOKUP',\n",
       "    'entityType': 'RELATIONSHIP',\n",
       "    'labelsOrTypes': None,\n",
       "    'properties': None,\n",
       "    'indexProvider': 'token-lookup-1.0',\n",
       "    'options': {'indexProvider': 'token-lookup-1.0', 'indexConfig': {}},\n",
       "    'failureMessage': '',\n",
       "    'createStatement': 'CREATE LOOKUP INDEX `index_f7700477` FOR ()-[r]-() ON EACH type(r)'}]}}"
      ]
     },
     "execution_count": 27,
     "metadata": {},
     "output_type": "execute_result"
    }
   ],
   "source": [
    "graph.structured_schema"
   ]
  },
  {
   "cell_type": "markdown",
   "id": "b130e26b",
   "metadata": {},
   "source": [
    "### Create Cypher Query"
   ]
  },
  {
   "cell_type": "code",
   "execution_count": 28,
   "id": "399addd7",
   "metadata": {},
   "outputs": [
    {
     "data": {
      "text/plain": [
       "[{'n': {'name': 'Personal Banking Customer',\n",
       "   'description': 'A customer of the bank, with personal bank accounts.',\n",
       "   'tags': 'Element,Person,Customer'}},\n",
       " {'n': {'name': 'Customer Service Staff',\n",
       "   'description': 'Customer service staff within the bank.',\n",
       "   'tags': 'Element,Person,Bank Staff'}},\n",
       " {'n': {'name': 'Back Office Staff',\n",
       "   'description': 'Administration and support staff within the bank.',\n",
       "   'tags': 'Element,Person,Bank Staff'}}]"
      ]
     },
     "execution_count": 28,
     "metadata": {},
     "output_type": "execute_result"
    }
   ],
   "source": [
    "## What are the persons using systems?\n",
    "graph.query(\"MATCH (n:Person) RETURN n\")"
   ]
  },
  {
   "cell_type": "code",
   "execution_count": 29,
   "id": "44c21544",
   "metadata": {},
   "outputs": [
    {
     "data": {
      "text/plain": [
       "[{'ss.name': 'ATM'}, {'ss.name': 'Internet Banking System'}]"
      ]
     },
     "execution_count": 29,
     "metadata": {},
     "output_type": "execute_result"
    }
   ],
   "source": [
    "## What software systems are used by customers?\n",
    "graph.query(\"\"\"\n",
    "    MATCH (p:Person)-[:Uses]->(ss:SoftwareSystem)\n",
    "    WHERE p.tags CONTAINS \"Customer\"\n",
    "    RETURN DISTINCT ss.name\n",
    "    \"\"\")"
   ]
  },
  {
   "cell_type": "code",
   "execution_count": 8,
   "id": "df9a2b88",
   "metadata": {},
   "outputs": [
    {
     "data": {
      "text/plain": [
       "[{'ss.name': 'ATM'}]"
      ]
     },
     "execution_count": 8,
     "metadata": {},
     "output_type": "execute_result"
    }
   ],
   "source": [
    "## What software systems are used by customers to withdraw cash?\n",
    "graph.query(\"\"\"\n",
    "    MATCH (p:Person)-[:Uses]->(ss:SoftwareSystem)\n",
    "    WHERE p.tags CONTAINS \"Customer\" and ss.description CONTAINS \"withdraw cash\"\n",
    "    RETURN DISTINCT ss.name\n",
    "    \"\"\")"
   ]
  },
  {
   "cell_type": "markdown",
   "id": "bc747d13",
   "metadata": {},
   "source": [
    "### Create LLM"
   ]
  },
  {
   "cell_type": "code",
   "execution_count": 9,
   "id": "dd6c9c3b",
   "metadata": {},
   "outputs": [
    {
     "name": "stdout",
     "output_type": "stream",
     "text": [
      "MISTRAL_MODEL = open-mistral-7b\n"
     ]
    }
   ],
   "source": [
    "# from langchain_openai import ChatOpenAI\n",
    "# os.environ[\"OPENAI_API_KEY\"] = .......\n",
    "# llm = ChatOpenAI(model=\"gpt-3.5-turbo\", temperature=0)\n",
    "\n",
    "from langchain_mistralai.chat_models import ChatMistralAI\n",
    "llm = ChatMistralAI(mistral_api_key=os.getenv(\"MISTRAL_API_KEY\"), model=os.getenv(\"MISTRAL_MODEL\"), temperature=0)\n",
    "\n",
    "print(\"MISTRAL_MODEL = \" + os.getenv(\"MISTRAL_MODEL\"))"
   ]
  },
  {
   "cell_type": "markdown",
   "id": "0900e165",
   "metadata": {},
   "source": [
    "### Create GraphCypherQAChain\n",
    "\n",
    "Please refer to API documentation for more details.\n",
    "\n",
    "https://api.python.langchain.com/en/latest/chains/langchain.chains.graph_qa.cypher.GraphCypherQAChain.html"
   ]
  },
  {
   "cell_type": "code",
   "execution_count": 10,
   "id": "ddf43ecf",
   "metadata": {},
   "outputs": [],
   "source": [
    "from langchain.chains import GraphCypherQAChain\n",
    "#  input_key: str = \"query\"  \n",
    "#  output_key: str = \"result\" \n",
    "\n",
    "chain = GraphCypherQAChain.from_llm(graph=graph, llm=llm, verbose=True)\n",
    "# top_k=2\n",
    "# return_intermediate_steps=True\n",
    "# return_direct=True\n",
    "\n",
    "\n",
    "# class GraphCypherQAChain(Chain):\n",
    "#     graph: GraphStore = Field(exclude=True)\n",
    "#     cypher_generation_chain: LLMChain\n",
    "#     qa_chain: LLMChain\n",
    "#     graph_schema: str\n",
    "#     input_key: str = \"query\"  #: :meta private:\n",
    "#     output_key: str = \"result\"  #: :meta private:\n",
    "#     top_k: int = 10\n",
    "#     \"\"\"Number of results to return from the query\"\"\"\n",
    "#     return_intermediate_steps: bool = False\n",
    "#     \"\"\"Whether or not to return the intermediate steps along with the final answer.\"\"\"\n",
    "#     return_direct: bool = False\n",
    "#     \"\"\"Whether or not to return the result of querying the graph directly.\"\"\"\n",
    "#     cypher_query_corrector: Optional[CypherQueryCorrector] = None\n",
    "#     \"\"\"Optional cypher validation tool\"\"\"\n",
    "\n",
    "# from_llm(\n",
    "#         cls,\n",
    "#         llm: Optional[BaseLanguageModel] = None,\n",
    "#         *,\n",
    "#         qa_prompt: Optional[BasePromptTemplate] = None,\n",
    "#         cypher_prompt: Optional[BasePromptTemplate] = None,\n",
    "#         cypher_llm: Optional[BaseLanguageModel] = None,\n",
    "#         qa_llm: Optional[BaseLanguageModel] = None,\n",
    "#         exclude_types: List[str] = [],\n",
    "#         include_types: List[str] = [],\n",
    "#         validate_cypher: bool = False,\n",
    "#         qa_llm_kwargs: Optional[Dict[str, Any]] = None,\n",
    "#         cypher_llm_kwargs: Optional[Dict[str, Any]] = None,\n",
    "#         **kwargs: Any,\n",
    "#     ) -> GraphCypherQAChain:"
   ]
  },
  {
   "cell_type": "markdown",
   "id": "00c36309",
   "metadata": {},
   "source": [
    "### Check the default prompts\n"
   ]
  },
  {
   "cell_type": "code",
   "execution_count": 11,
   "id": "588ab77d",
   "metadata": {},
   "outputs": [
    {
     "name": "stdout",
     "output_type": "stream",
     "text": [
      "CYPHER_GENERATION_PROMPT = \n",
      "input_variables=['question', 'schema'] template='Task:Generate Cypher statement to query a graph database.\\nInstructions:\\nUse only the provided relationship types and properties in the schema.\\nDo not use any other relationship types or properties that are not provided.\\nSchema:\\n{schema}\\nNote: Do not include any explanations or apologies in your responses.\\nDo not respond to any questions that might ask anything else than for you to construct a Cypher statement.\\nDo not include any text except the generated Cypher statement.\\n\\nThe question is:\\n{question}'\n",
      "CYPHER_QA_PROMPT = \n",
      "input_variables=['context', 'question'] template=\"You are an assistant that helps to form nice and human understandable answers.\\nThe information part contains the provided information that you must use to construct an answer.\\nThe provided information is authoritative, you must never doubt it or try to use your internal knowledge to correct it.\\nMake the answer sound as a response to the question. Do not mention that you based the result on the given information.\\nHere is an example:\\n\\nQuestion: Which managers own Neo4j stocks?\\nContext:[manager:CTL LLC, manager:JANE STREET GROUP LLC]\\nHelpful Answer: CTL LLC, JANE STREET GROUP LLC owns Neo4j stocks.\\n\\nFollow this example when generating answers.\\nIf the provided information is empty, say that you don't know the answer.\\nInformation:\\n{context}\\n\\nQuestion: {question}\\nHelpful Answer:\"\n"
     ]
    }
   ],
   "source": [
    "from langchain.chains.graph_qa.prompts import CYPHER_GENERATION_PROMPT, CYPHER_QA_PROMPT\n",
    "\n",
    "print(\"CYPHER_GENERATION_PROMPT = \", flush=True)\n",
    "print(CYPHER_GENERATION_PROMPT)\n",
    "\n",
    "print(\"CYPHER_QA_PROMPT = \", flush=True)\n",
    "print(CYPHER_QA_PROMPT)"
   ]
  },
  {
   "cell_type": "markdown",
   "id": "2576bf47",
   "metadata": {},
   "source": [
    "### Ask question to QA chain\n",
    "\n",
    "The **question** must be passed as a dictionary with a key \"query\" and the value is the question.\n",
    "\n",
    "The QA chain will generate a cypher query statement using `CYPHER_GENERATION_PROMPT` and return the answer to the question.\n"
   ]
  },
  {
   "cell_type": "code",
   "execution_count": 12,
   "id": "d9b3782f",
   "metadata": {},
   "outputs": [
    {
     "name": "stdout",
     "output_type": "stream",
     "text": [
      "\n",
      "\n",
      "\u001b[1m> Entering new GraphCypherQAChain chain...\u001b[0m\n",
      "Generated Cypher:\n",
      "\u001b[32;1m\u001b[1;3mcypher\n",
      "MATCH (p:Person {name: \"Back Office Staff\"})-[:Uses]->(ss:SoftwareSystem)\n",
      "RETURN ss.name\n",
      "\u001b[0m\n",
      "Full Context:\n",
      "\u001b[32;1m\u001b[1;3m[{'ss.name': 'Mainframe Banking System'}]\u001b[0m\n",
      "\n",
      "\u001b[1m> Finished chain.\u001b[0m\n"
     ]
    },
    {
     "data": {
      "text/plain": [
       "{'query': 'What software systems are used by Back Office Staff?',\n",
       " 'result': 'The Back Office Staff uses the Mainframe Banking System.'}"
      ]
     },
     "execution_count": 12,
     "metadata": {},
     "output_type": "execute_result"
    }
   ],
   "source": [
    "response = chain.invoke({\"query\": \"What software systems are used by Back Office Staff?\"})\n",
    "response"
   ]
  },
  {
   "cell_type": "code",
   "execution_count": 13,
   "id": "f46f7b1f",
   "metadata": {},
   "outputs": [
    {
     "name": "stdout",
     "output_type": "stream",
     "text": [
      "\n",
      "\n",
      "\u001b[1m> Entering new GraphCypherQAChain chain...\u001b[0m\n",
      "Generated Cypher:\n",
      "\u001b[32;1m\u001b[1;3mcypher\n",
      "MATCH (p:Person {name: \"Personal Banking Customer\"})-[:Uses]->(ss:SoftwareSystem)\n",
      "RETURN ss.name\n",
      "\u001b[0m\n",
      "Full Context:\n",
      "\u001b[32;1m\u001b[1;3m[{'ss.name': 'ATM'}, {'ss.name': 'Internet Banking System'}]\u001b[0m\n",
      "\n",
      "\u001b[1m> Finished chain.\u001b[0m\n"
     ]
    },
    {
     "data": {
      "text/plain": [
       "{'query': 'What software systems are used by Personal Banking Customer?',\n",
       " 'result': 'Personal Banking Customers use ATM and Internet Banking System software systems.'}"
      ]
     },
     "execution_count": 13,
     "metadata": {},
     "output_type": "execute_result"
    }
   ],
   "source": [
    "response = chain.invoke({\"query\": \"What software systems are used by Personal Banking Customer?\"})\n",
    "response"
   ]
  },
  {
   "cell_type": "code",
   "execution_count": 14,
   "id": "036634a9",
   "metadata": {},
   "outputs": [
    {
     "name": "stdout",
     "output_type": "stream",
     "text": [
      "\n",
      "\n",
      "\u001b[1m> Entering new GraphCypherQAChain chain...\u001b[0m\n",
      "Generated Cypher:\n",
      "\u001b[32;1m\u001b[1;3mcypher\n",
      "MATCH (p:Person)-[:Uses]->(ss:SoftwareSystem)\n",
      "RETURN ss.name\n",
      "\u001b[0m\n",
      "Full Context:\n",
      "\u001b[32;1m\u001b[1;3m[{'ss.name': 'ATM'}, {'ss.name': 'Internet Banking System'}, {'ss.name': 'Mainframe Banking System'}, {'ss.name': 'Mainframe Banking System'}]\u001b[0m\n",
      "\n",
      "\u001b[1m> Finished chain.\u001b[0m\n"
     ]
    },
    {
     "data": {
      "text/plain": [
       "{'query': 'What software systems are used by customers?',\n",
       " 'result': 'Customers use ATM, Internet Banking System, and Mainframe Banking System software systems.'}"
      ]
     },
     "execution_count": 14,
     "metadata": {},
     "output_type": "execute_result"
    }
   ],
   "source": [
    "response = chain.invoke({\"query\": \"What software systems are used by customers?\"})\n",
    "response"
   ]
  },
  {
   "cell_type": "markdown",
   "id": "5fb35960",
   "metadata": {},
   "source": [
    "### Promt Refinement\n",
    "\n",
    "https://python.langchain.com/docs/integrations/graphs/memgraph/#prompt-refinement\n"
   ]
  },
  {
   "cell_type": "code",
   "execution_count": 15,
   "id": "74c37a49",
   "metadata": {},
   "outputs": [
    {
     "name": "stdout",
     "output_type": "stream",
     "text": [
      "\n",
      "\n",
      "\u001b[1m> Entering new GraphCypherQAChain chain...\u001b[0m\n",
      "Generated Cypher:\n",
      "\u001b[32;1m\u001b[1;3mMATCH (p:Person)-[:Uses]->(ss:SoftwareSystem)\n",
      "WHERE p.tags CONTAINS \"Customer\"\n",
      "RETURN DISTINCT ss.name\u001b[0m\n",
      "Full Context:\n",
      "\u001b[32;1m\u001b[1;3m[{'ss.name': 'ATM'}, {'ss.name': 'Internet Banking System'}]\u001b[0m\n",
      "\n",
      "\u001b[1m> Finished chain.\u001b[0m\n"
     ]
    },
    {
     "data": {
      "text/plain": [
       "{'query': 'What software systems are used by customers?',\n",
       " 'result': 'Customers use ATM, Internet Banking System, and Mainframe Banking System software systems.'}"
      ]
     },
     "execution_count": 15,
     "metadata": {},
     "output_type": "execute_result"
    }
   ],
   "source": [
    "from langchain_core.prompts import PromptTemplate\n",
    "\n",
    "# ## Refine the CYPHER_GENERATION_TEMPLATE by adding examples\n",
    "\n",
    "MY_CYPHER_GENERATION_TEMPLATE = \"\"\"\n",
    "Task: Generate a syntactically correct cypher statement to query a graph database.\n",
    "Instructions:\n",
    "Use only the provided relationship types and properties in the schema.\n",
    "Do not use any other relationship types or properties that are not provided.\n",
    "\n",
    "Schema:\n",
    "{schema}\n",
    "\n",
    "Note: Do not include any explanations or apologies in your responses.\n",
    "Do not respond to any questions that might ask anything else than for you to construct a Cypher statement.\n",
    "Do not include any text except the generated Cypher statement.\n",
    "\n",
    "Here are a few examples of generated Cypher statements for particular questions:\n",
    "# What software systems are used by Bank Staff?\n",
    "MATCH (p:Person)-[:Uses]->(ss:SoftwareSystem)\n",
    "WHERE p.tags CONTAINS \"Bank Staff\"\n",
    "RETURN DISTINCT ss.name\n",
    "# What software systems are used by customers to withdraw cash?\n",
    "MATCH (p:Person)-[:Uses]->(ss:SoftwareSystem)\n",
    "WHERE p.tags CONTAINS \"Customer\" and ss.description CONTAINS \"withdraw cash\"\n",
    "RETURN DISTINCT ss.name\n",
    "    \n",
    "The question is:\n",
    "{question}\n",
    "\"\"\"\n",
    "\n",
    "MY_CYPHER_GENERATION_PROMPT = PromptTemplate(\n",
    "    input_variables=[\"schema\", \"question\"], template=MY_CYPHER_GENERATION_TEMPLATE\n",
    ")\n",
    "\n",
    "## Use the default CYPHER_GENERATION_PROMPT\n",
    "# MY_CYPHER_GENERATION_PROMPT = CYPHER_GENERATION_PROMPT\n",
    "\n",
    "## Use the default CYPHER_QA_PROMPT\n",
    "# MY_CYPHER_QA_PROMPT = CYPHER_QA_PROMPT\n",
    "MY_CYPHER_QA_TEMPLATE = \"\"\"\n",
    "You are an assistant that helps to form nice and human understandable answers.\n",
    "The context part contains the provided information that you must use to construct an answer.\n",
    "The provided information is authoritative, you must never doubt it or try to use your internal knowledge to correct it.\n",
    "Make the answer sound as a response to the question. \n",
    "Do not mention that you based the result on the given context.\n",
    "Do not make up anything which does not exist in the provided context.\n",
    "\n",
    "Here is an example:\n",
    "Question: What software systems are used by customers?\n",
    "Context: ATM, Internet Banking System\n",
    "Helpful Answer: ATM and Internet Banking System.\n",
    "\n",
    "Follow this example when generating answers. If the provided context is empty, say that you don't know the answer.\n",
    "\n",
    "Context: {context}\n",
    "\n",
    "Question: {question}\n",
    "Helpful Answer:\n",
    "\"\"\"\n",
    "\n",
    "MY_CYPHER_QA_PROMPT = PromptTemplate(\n",
    "    input_variables=['context', 'question'], template=MY_CYPHER_QA_TEMPLATE\n",
    ")\n",
    "\n",
    "chain = GraphCypherQAChain.from_llm(llm=llm, graph=graph, qa_prompt=MY_CYPHER_QA_PROMPT,cypher_prompt=MY_CYPHER_GENERATION_PROMPT,verbose=True)\n",
    "\n"
   ]
  },
  {
   "cell_type": "code",
   "execution_count": null,
   "id": "68929886",
   "metadata": {},
   "outputs": [],
   "source": [
    "responseresponse = chain.invoke({\"query\": \"What software systems are used by customers?\"})\n",
    "response"
   ]
  },
  {
   "cell_type": "code",
   "execution_count": 17,
   "id": "e9bc8929",
   "metadata": {},
   "outputs": [
    {
     "name": "stdout",
     "output_type": "stream",
     "text": [
      "\n",
      "\n",
      "\u001b[1m> Entering new GraphCypherQAChain chain...\u001b[0m\n",
      "Generated Cypher:\n",
      "\u001b[32;1m\u001b[1;3mMATCH (p:Person)-[:Uses]->(ss:SoftwareSystem)\n",
      "WHERE p.tags CONTAINS \"Customer\" and ss.description CONTAINS \"withdraw cash\"\n",
      "RETURN DISTINCT ss.name\u001b[0m\n",
      "Full Context:\n",
      "\u001b[32;1m\u001b[1;3m[{'ss.name': 'ATM'}]\u001b[0m\n",
      "\n",
      "\u001b[1m> Finished chain.\u001b[0m\n"
     ]
    },
    {
     "data": {
      "text/plain": [
       "{'query': 'What software systems are used by customers?',\n",
       " 'result': 'Customers use ATM, Internet Banking System, and Mainframe Banking System software systems.'}"
      ]
     },
     "execution_count": 17,
     "metadata": {},
     "output_type": "execute_result"
    }
   ],
   "source": [
    "responseresponse = chain.invoke({\"query\": \"What systems can be used by customers to withdraw cash?\"})\n",
    "response"
   ]
  },
  {
   "cell_type": "markdown",
   "id": "214f2f09",
   "metadata": {},
   "source": [
    "### Few-shot examples\n",
    "    "
   ]
  },
  {
   "cell_type": "code",
   "execution_count": 51,
   "id": "abb2c24f",
   "metadata": {},
   "outputs": [],
   "source": [
    "examples = [\n",
    "    {\n",
    "        \"question\": \"who are the users\",\n",
    "        \"query\": \"MATCH (p:Person) RETURN distinct p\",\n",
    "    },\n",
    "    {\n",
    "        \"question\": \"what software systems are used by customers\",\n",
    "        \"query\": \"MATCH (p:Person)-[:Uses]->(s:SoftwareSystem) WHERE p.tags contains 'Customer' RETURN DISTINCT s.name,s.description\",\n",
    "    },\n",
    "    {\n",
    "        \"question\": \"what software systems are used by customers to withdraw cash\",\n",
    "        \"query\": \"MATCH (p:Person)-[:Uses]->(s:SoftwareSystem) WHERE p.tags contains 'Customer' AND s.description CONTAINS 'withdraw cash' RETURN DISTINCT s.name,s.description\",\n",
    "    },\n",
    "    {\n",
    "        \"question\": \"what software systems are available\",\n",
    "        \"query\": \"MATCH (s:SoftwareSystem) RETURN DISTINCT s.name,s.description\",\n",
    "    }\n",
    "]"
   ]
  },
  {
   "cell_type": "code",
   "execution_count": 52,
   "id": "abeedf5c-8735-4419-9a08-324dd5554dc8",
   "metadata": {},
   "outputs": [],
   "source": [
    "from langchain_core.prompts import FewShotPromptTemplate, PromptTemplate\n",
    "\n",
    "example_prompt = PromptTemplate.from_template(\n",
    "    \"User input: {question}\\nCypher query: {query}\"\n",
    ")\n",
    "\n",
    "promt_prefix = \"\"\"\n",
    "Task: Generate a syntactically correct cypher statement to query a graph database.\n",
    "Instructions:\n",
    "Use only the provided relationship types and properties in the schema.\n",
    "Do not use any other relationship types or properties that are not provided.\n",
    "\n",
    "Schema:\n",
    "{schema}\n",
    "\n",
    "Note: Do not include any explanations or apologies in your responses.\n",
    "Do not respond to any questions that might ask anything else than for you to construct a Cypher statement.\n",
    "Do not include any text except the generated Cypher statement.\n",
    "\n",
    "Here are a few examples of generated Cypher statements for particular questions:\n",
    "\"\"\"\n",
    "\n",
    "promt_suffix=\"\"\"\n",
    "User input: {question}\n",
    "Cypher query:\n",
    "\"\"\"\n",
    "\n",
    "fewShotPrompt = FewShotPromptTemplate(\n",
    "    examples=examples,\n",
    "    example_prompt=example_prompt,\n",
    "    prefix=promt_prefix,\n",
    "    suffix=promt_suffix,\n",
    "    input_variables=[\"question\", \"schema\"],\n",
    ")\n",
    "\n",
    "chain = GraphCypherQAChain.from_llm(graph=graph, llm=llm, cypher_prompt=fewShotPrompt, verbose=True)\n"
   ]
  },
  {
   "cell_type": "code",
   "execution_count": 53,
   "id": "2ae5b263",
   "metadata": {},
   "outputs": [
    {
     "name": "stdout",
     "output_type": "stream",
     "text": [
      "\n",
      "Task: Generate a syntactically correct cypher statement to query a graph database.\n",
      "Instructions:\n",
      "Use only the provided relationship types and properties in the schema.\n",
      "Do not use any other relationship types or properties that are not provided.\n",
      "\n",
      "Schema:\n",
      "{'node_props': {'Person': [{'property': 'name', 'type': 'STRING'}, {'property': 'tags', 'type': 'STRING'}, {'property': 'description', 'type': 'STRING'}], 'SoftwareSystem': [{'property': 'description', 'type': 'STRING'}, {'property': 'tags', 'type': 'STRING'}, {'property': 'name', 'type': 'STRING'}], 'Container': [{'property': 'name', 'type': 'STRING'}, {'property': 'tags', 'type': 'STRING'}, {'property': 'description', 'type': 'STRING'}], 'Component': [{'property': 'name', 'type': 'STRING'}, {'property': 'tags', 'type': 'STRING'}, {'property': 'description', 'type': 'STRING'}]}, 'rel_props': {'Uses': [{'property': 'description', 'type': 'STRING'}]}, 'relationships': [{'start': 'Person', 'type': 'Uses', 'end': 'Container'}, {'start': 'Person', 'type': 'Uses', 'end': 'SoftwareSystem'}, {'start': 'Person', 'type': 'Uses', 'end': 'Person'}, {'start': 'SoftwareSystem', 'type': 'Uses', 'end': 'Person'}, {'start': 'SoftwareSystem', 'type': 'Uses', 'end': 'SoftwareSystem'}, {'start': 'SoftwareSystem', 'type': 'Contains', 'end': 'Container'}, {'start': 'Container', 'type': 'Uses', 'end': 'Component'}, {'start': 'Container', 'type': 'Uses', 'end': 'Container'}, {'start': 'Container', 'type': 'Uses', 'end': 'SoftwareSystem'}, {'start': 'Container', 'type': 'Contains', 'end': 'Component'}, {'start': 'Component', 'type': 'Uses', 'end': 'Component'}, {'start': 'Component', 'type': 'Uses', 'end': 'Container'}, {'start': 'Component', 'type': 'Uses', 'end': 'SoftwareSystem'}], 'metadata': {'constraint': [], 'index': [{'id': 1, 'name': 'index_343aff4e', 'state': 'ONLINE', 'populationPercent': 100.0, 'uniqueness': 'NONUNIQUE', 'type': 'LOOKUP', 'entityType': 'NODE', 'labelsOrTypes': None, 'properties': None, 'indexProvider': 'token-lookup-1.0', 'options': {'indexProvider': 'token-lookup-1.0', 'indexConfig': {}}, 'failureMessage': '', 'createStatement': 'CREATE LOOKUP INDEX `index_343aff4e` FOR (n) ON EACH labels(n)'}, {'id': 2, 'name': 'index_f7700477', 'state': 'ONLINE', 'populationPercent': 100.0, 'uniqueness': 'NONUNIQUE', 'type': 'LOOKUP', 'entityType': 'RELATIONSHIP', 'labelsOrTypes': None, 'properties': None, 'indexProvider': 'token-lookup-1.0', 'options': {'indexProvider': 'token-lookup-1.0', 'indexConfig': {}}, 'failureMessage': '', 'createStatement': 'CREATE LOOKUP INDEX `index_f7700477` FOR ()-[r]-() ON EACH type(r)'}]}}\n",
      "\n",
      "Note: Do not include any explanations or apologies in your responses.\n",
      "Do not respond to any questions that might ask anything else than for you to construct a Cypher statement.\n",
      "Do not include any text except the generated Cypher statement.\n",
      "\n",
      "Here are a few examples of generated Cypher statements for particular questions:\n",
      "\n",
      "\n",
      "User input: who are the users\n",
      "Cypher query: MATCH (p:Person) RETURN distinct p\n",
      "\n",
      "User input: what software systems are used by customers\n",
      "Cypher query: MATCH (p:Person)-[:Uses]->(s:SoftwareSystem) WHERE p.tags contains 'Customer' RETURN DISTINCT s.name,s.description\n",
      "\n",
      "User input: what software systems are used by customers to withdraw cash\n",
      "Cypher query: MATCH (p:Person)-[:Uses]->(s:SoftwareSystem) WHERE p.tags contains 'Customer' AND s.description CONTAINS 'withdraw cash' RETURN DISTINCT s.name,s.description\n",
      "\n",
      "User input: what software systems are available\n",
      "Cypher query: MATCH (s:SoftwareSystem) RETURN DISTINCT s.name,s.description\n",
      "\n",
      "\n",
      "User input: What software systems are used by customers to withdraw cash?\n",
      "Cypher query:\n",
      "\n"
     ]
    }
   ],
   "source": [
    "print(fewShotPrompt.format(question=\"What software systems are used by customers to withdraw cash?\", schema=graph.structured_schema))"
   ]
  },
  {
   "cell_type": "markdown",
   "id": "a8be7b78",
   "metadata": {},
   "source": [
    "### Ask a predefined question\n",
    "\n",
    "Ask a predefined question and the predefined query should be used to generate the answer.\n",
    "\n",
    "```json\n",
    "    {\n",
    "        \"question\": \"what software systems are used by customers\",\n",
    "        \"query\": \"MATCH (p:Person)-[:Uses]->(s:SoftwareSystem) WHERE p.tags contains 'Customer' RETURN DISTINCT s.name,s.description\",\n",
    "    }\n",
    "```"
   ]
  },
  {
   "cell_type": "code",
   "execution_count": 54,
   "id": "f9926c14",
   "metadata": {},
   "outputs": [
    {
     "name": "stdout",
     "output_type": "stream",
     "text": [
      "\n",
      "\n",
      "\u001b[1m> Entering new GraphCypherQAChain chain...\u001b[0m\n",
      "Generated Cypher:\n",
      "\u001b[32;1m\u001b[1;3mMATCH (p:Person)-[:Uses]->(s:SoftwareSystem) WHERE p.tags contains 'Customer'\n",
      "RETURN DISTINCT s.name, s.description\u001b[0m\n",
      "Full Context:\n",
      "\u001b[32;1m\u001b[1;3m[{'s.name': 'ATM', 's.description': 'Allows customers to withdraw cash.'}, {'s.name': 'Internet Banking System', 's.description': 'Allows customers to view information about their bank accounts, and make payments.'}]\u001b[0m\n",
      "\n",
      "\u001b[1m> Finished chain.\u001b[0m\n"
     ]
    },
    {
     "data": {
      "text/plain": [
       "{'query': 'What software systems are used by customers?',\n",
       " 'result': 'Customers use ATM software for withdrawing cash and Internet Banking System software for viewing information about their bank accounts and making payments.'}"
      ]
     },
     "execution_count": 54,
     "metadata": {},
     "output_type": "execute_result"
    }
   ],
   "source": [
    "response = chain.invoke(\"What software systems are used by customers?\")\n",
    "response"
   ]
  },
  {
   "cell_type": "markdown",
   "id": "090f50ef",
   "metadata": {},
   "source": [
    "### Ask a question that is not in the predefined list\n",
    "\n",
    "The QA Chain should be able to find the similar question in the predefined list and use the corresponding query to generate the answer."
   ]
  },
  {
   "cell_type": "code",
   "execution_count": 35,
   "id": "28b81b5f",
   "metadata": {},
   "outputs": [
    {
     "name": "stdout",
     "output_type": "stream",
     "text": [
      "\n",
      "\n",
      "\u001b[1m> Entering new GraphCypherQAChain chain...\u001b[0m\n",
      "Generated Cypher:\n",
      "\u001b[32;1m\u001b[1;3mMATCH (p:Person)-[:Uses]->(s:SoftwareSystem) WHERE p.tags contains 'Bank Staff' RETURN DISTINCT s.name,s.description\u001b[0m\n",
      "Full Context:\n",
      "\u001b[32;1m\u001b[1;3m[{'s.name': 'Mainframe Banking System', 's.description': 'Stores all of the core banking information about customers, accounts, transactions, etc.'}]\u001b[0m\n",
      "\n",
      "\u001b[1m> Finished chain.\u001b[0m\n"
     ]
    },
    {
     "data": {
      "text/plain": [
       "{'query': 'What software systems are used by bank staff?',\n",
       " 'result': 'The Mainframe Banking System is used by bank staff to store all of the core banking information about customers, accounts, and transactions.'}"
      ]
     },
     "execution_count": 35,
     "metadata": {},
     "output_type": "execute_result"
    }
   ],
   "source": [
    "response = chain.invoke(\"What software systems are used by bank staff?\")\n",
    "response"
   ]
  },
  {
   "cell_type": "code",
   "execution_count": 37,
   "id": "d7d61959",
   "metadata": {},
   "outputs": [
    {
     "name": "stdout",
     "output_type": "stream",
     "text": [
      "\n",
      "\n",
      "\u001b[1m> Entering new GraphCypherQAChain chain...\u001b[0m\n",
      "Generated Cypher:\n",
      "\u001b[32;1m\u001b[1;3mMATCH (p:Person)-[:Uses]->(s:SoftwareSystem) WHERE s.description CONTAINS 'make payments' RETURN DISTINCT s.name, s.description\u001b[0m\n",
      "Full Context:\n",
      "\u001b[32;1m\u001b[1;3m[{'s.name': 'Internet Banking System', 's.description': 'Allows customers to view information about their bank accounts, and make payments.'}]\u001b[0m\n",
      "\n",
      "\u001b[1m> Finished chain.\u001b[0m\n"
     ]
    },
    {
     "data": {
      "text/plain": [
       "{'query': 'what software systems can be used to make payments?',\n",
       " 'result': 'An Internet Banking System can be used to make payments.'}"
      ]
     },
     "execution_count": 37,
     "metadata": {},
     "output_type": "execute_result"
    }
   ],
   "source": [
    "response = chain.invoke(\"what software systems can be used to make payments?\")\n",
    "response"
   ]
  },
  {
   "cell_type": "code",
   "execution_count": 38,
   "id": "f2da7faf",
   "metadata": {},
   "outputs": [
    {
     "name": "stdout",
     "output_type": "stream",
     "text": [
      "\n",
      "\n",
      "\u001b[1m> Entering new GraphCypherQAChain chain...\u001b[0m\n",
      "Generated Cypher:\n",
      "\u001b[32;1m\u001b[1;3mMATCH (s:SoftwareSystem) WHERE s.description CONTAINS 'withdraw cash' RETURN DISTINCT s.name, s.description\u001b[0m\n",
      "Full Context:\n",
      "\u001b[32;1m\u001b[1;3m[{'s.name': 'ATM', 's.description': 'Allows customers to withdraw cash.'}]\u001b[0m\n",
      "\n",
      "\u001b[1m> Finished chain.\u001b[0m\n"
     ]
    },
    {
     "data": {
      "text/plain": [
       "{'query': 'what software systems can be used to withdraw cash?',\n",
       " 'result': 'An ATM (Automated Teller Machine) software system can be used to withdraw cash.'}"
      ]
     },
     "execution_count": 38,
     "metadata": {},
     "output_type": "execute_result"
    }
   ],
   "source": [
    "response = chain.invoke(\"what software systems can be used to withdraw cash?\")\n",
    "response"
   ]
  },
  {
   "cell_type": "markdown",
   "id": "4500a922",
   "metadata": {},
   "source": [
    "### Semantic Search\n",
    "\n",
    "The cypher statements generated for the above examples are using simple matching against keywords, e.g. `p.tags contains 'Bank Staff'` \n",
    "Question :\n",
    "`What software systems are used by bank staff?`\n",
    "\n",
    "Generated Cypher:\n",
    "`MATCH (p:Person)-[:Uses]->(s:SoftwareSystem) WHERE p.tags contains 'Bank Staff' RETURN DISTINCT s.name,s.description`\n",
    "\n",
    "Result: \n",
    "`The Mainframe Banking System is used by bank staff to store all of the core banking information about customers, accounts, and transactions.`\n",
    "\n",
    "if we ask the question in another way, QA Chain will not be able to answer correctly, it should use semnatic search instead to resolve the problem. \n",
    "\n",
    "https://python.langchain.com/docs/use_cases/graph/semantic/\n"
   ]
  },
  {
   "cell_type": "code",
   "execution_count": 56,
   "id": "cd427404",
   "metadata": {},
   "outputs": [
    {
     "name": "stdout",
     "output_type": "stream",
     "text": [
      "\n",
      "\n",
      "\u001b[1m> Entering new GraphCypherQAChain chain...\u001b[0m\n",
      "Generated Cypher:\n",
      "\u001b[32;1m\u001b[1;3mMATCH (s:SoftwareSystem) WHERE s.description CONTAINS 'banking information' RETURN DISTINCT s.name, s.description\u001b[0m\n",
      "Full Context:\n",
      "\u001b[32;1m\u001b[1;3m[{'s.name': 'Mainframe Banking System', 's.description': 'Stores all of the core banking information about customers, accounts, transactions, etc.'}]\u001b[0m\n",
      "\n",
      "\u001b[1m> Finished chain.\u001b[0m\n"
     ]
    },
    {
     "data": {
      "text/plain": [
       "{'query': 'what software systems have banking information?',\n",
       " 'result': 'The Mainframe Banking System stores all of the core banking information.'}"
      ]
     },
     "execution_count": 56,
     "metadata": {},
     "output_type": "execute_result"
    }
   ],
   "source": [
    "response = chain.invoke(\"what software systems have banking information?\")\n",
    "response"
   ]
  },
  {
   "cell_type": "code",
   "execution_count": 57,
   "id": "d5eeb77a",
   "metadata": {},
   "outputs": [
    {
     "name": "stdout",
     "output_type": "stream",
     "text": [
      "\n",
      "\n",
      "\u001b[1m> Entering new GraphCypherQAChain chain...\u001b[0m\n",
      "Generated Cypher:\n",
      "\u001b[32;1m\u001b[1;3mMATCH (p:Person)-[:Uses]->(s:SoftwareSystem) WHERE p.tags contains 'Customer' AND s.description CONTAINS 'customer information' RETURN DISTINCT s.name,s.description\u001b[0m\n",
      "Full Context:\n",
      "\u001b[32;1m\u001b[1;3m[]\u001b[0m\n",
      "\n",
      "\u001b[1m> Finished chain.\u001b[0m\n"
     ]
    },
    {
     "data": {
      "text/plain": [
       "{'query': 'what software systems can be used to view customer information?',\n",
       " 'result': \"I'm unable to provide an answer without specific software systems mentioned in the information provided.\"}"
      ]
     },
     "execution_count": 57,
     "metadata": {},
     "output_type": "execute_result"
    }
   ],
   "source": [
    "response = chain.invoke(\"what software systems can be used to view customer information?\")\n",
    "response"
   ]
  },
  {
   "cell_type": "code",
   "execution_count": 30,
   "id": "1d0d2980",
   "metadata": {},
   "outputs": [
    {
     "ename": "ValidationError",
     "evalue": "1 validation error for MistralAIEmbeddings\n__root__\n  An error happened while trying to locate the file on the Hub and we cannot find the requested files in the local cache. Please check your connection and try again or make sure your Internet connection is on. (type=value_error.localentrynotfound; response=None; request=None)",
     "output_type": "error",
     "traceback": [
      "\u001b[0;31m---------------------------------------------------------------------------\u001b[0m",
      "\u001b[0;31mValidationError\u001b[0m                           Traceback (most recent call last)",
      "Cell \u001b[0;32mIn[30], line 12\u001b[0m\n\u001b[1;32m      6\u001b[0m \u001b[38;5;28;01mfrom\u001b[39;00m \u001b[38;5;21;01mlangchain_mistralai\u001b[39;00m \u001b[38;5;28;01mimport\u001b[39;00m MistralAIEmbeddings\n\u001b[1;32m      9\u001b[0m \u001b[38;5;66;03m# https://api.python.langchain.com/en/latest/_modules/langchain_community/vectorstores/neo4j_vector.html#Neo4jVector.from_existing_graph\u001b[39;00m\n\u001b[1;32m     10\u001b[0m \u001b[38;5;66;03m# Initialize and return a Neo4jVector instance from an existing graph.\u001b[39;00m\n\u001b[1;32m     11\u001b[0m vectorestore \u001b[38;5;241m=\u001b[39m Neo4jVector\u001b[38;5;241m.\u001b[39mfrom_existing_graph(\n\u001b[0;32m---> 12\u001b[0m     embedding\u001b[38;5;241m=\u001b[39m\u001b[43mMistralAIEmbeddings\u001b[49m\u001b[43m(\u001b[49m\u001b[43mmistral_api_key\u001b[49m\u001b[38;5;241;43m=\u001b[39;49m\u001b[43mos\u001b[49m\u001b[38;5;241;43m.\u001b[39;49m\u001b[43mgetenv\u001b[49m\u001b[43m(\u001b[49m\u001b[38;5;124;43m\"\u001b[39;49m\u001b[38;5;124;43mMISTRAL_API_KEY\u001b[39;49m\u001b[38;5;124;43m\"\u001b[39;49m\u001b[43m)\u001b[49m\u001b[43m)\u001b[49m,\n\u001b[1;32m     13\u001b[0m     node_label\u001b[38;5;241m=\u001b[39m\u001b[38;5;124m\"\u001b[39m\u001b[38;5;124mSoftwareSystem\u001b[39m\u001b[38;5;124m\"\u001b[39m,\n\u001b[1;32m     14\u001b[0m     embedding_node_property\u001b[38;5;241m=\u001b[39m\u001b[38;5;124m\"\u001b[39m\u001b[38;5;124membedding\u001b[39m\u001b[38;5;124m\"\u001b[39m,\n\u001b[1;32m     15\u001b[0m     text_node_properties\u001b[38;5;241m=\u001b[39m[\u001b[38;5;124m\"\u001b[39m\u001b[38;5;124mname\u001b[39m\u001b[38;5;124m\"\u001b[39m, \u001b[38;5;124m\"\u001b[39m\u001b[38;5;124mdescription\u001b[39m\u001b[38;5;124m\"\u001b[39m],\n\u001b[1;32m     16\u001b[0m     index_name\u001b[38;5;241m=\u001b[39m\u001b[38;5;124m\"\u001b[39m\u001b[38;5;124mSoftwareSystem_index\u001b[39m\u001b[38;5;124m\"\u001b[39m,\n\u001b[1;32m     17\u001b[0m     url\u001b[38;5;241m=\u001b[39mos\u001b[38;5;241m.\u001b[39mgetenv(\u001b[38;5;124m\"\u001b[39m\u001b[38;5;124mNEO4J_URI\u001b[39m\u001b[38;5;124m\"\u001b[39m), username\u001b[38;5;241m=\u001b[39mos\u001b[38;5;241m.\u001b[39mgetenv(\u001b[38;5;124m\"\u001b[39m\u001b[38;5;124mNEO4J_USERNAME\u001b[39m\u001b[38;5;124m\"\u001b[39m), password\u001b[38;5;241m=\u001b[39mos\u001b[38;5;241m.\u001b[39mgetenv(\u001b[38;5;124m\"\u001b[39m\u001b[38;5;124mNEO4J_PASSWORD\u001b[39m\u001b[38;5;124m\"\u001b[39m)\n\u001b[1;32m     18\u001b[0m )\n\u001b[1;32m     20\u001b[0m result \u001b[38;5;241m=\u001b[39m vectorestore\u001b[38;5;241m.\u001b[39msimilarity_search(\u001b[38;5;124m\"\u001b[39m\u001b[38;5;124mSlovenia\u001b[39m\u001b[38;5;124m\"\u001b[39m, k\u001b[38;5;241m=\u001b[39m\u001b[38;5;241m1\u001b[39m)\n",
      "File \u001b[0;32m/Library/Frameworks/Python.framework/Versions/3.12/lib/python3.12/site-packages/pydantic/v1/main.py:341\u001b[0m, in \u001b[0;36mBaseModel.__init__\u001b[0;34m(__pydantic_self__, **data)\u001b[0m\n\u001b[1;32m    339\u001b[0m values, fields_set, validation_error \u001b[38;5;241m=\u001b[39m validate_model(__pydantic_self__\u001b[38;5;241m.\u001b[39m\u001b[38;5;18m__class__\u001b[39m, data)\n\u001b[1;32m    340\u001b[0m \u001b[38;5;28;01mif\u001b[39;00m validation_error:\n\u001b[0;32m--> 341\u001b[0m     \u001b[38;5;28;01mraise\u001b[39;00m validation_error\n\u001b[1;32m    342\u001b[0m \u001b[38;5;28;01mtry\u001b[39;00m:\n\u001b[1;32m    343\u001b[0m     object_setattr(__pydantic_self__, \u001b[38;5;124m'\u001b[39m\u001b[38;5;124m__dict__\u001b[39m\u001b[38;5;124m'\u001b[39m, values)\n",
      "\u001b[0;31mValidationError\u001b[0m: 1 validation error for MistralAIEmbeddings\n__root__\n  An error happened while trying to locate the file on the Hub and we cannot find the requested files in the local cache. Please check your connection and try again or make sure your Internet connection is on. (type=value_error.localentrynotfound; response=None; request=None)"
     ]
    }
   ],
   "source": [
    "# https://python.langchain.com/docs/integrations/text_embedding/mistralai/\n",
    "# https://python.langchain.com/docs/integrations/vectorstores/neo4jvector/\n",
    "\n",
    "from langchain_community.vectorstores import Neo4jVector\n",
    "# from langchain_mistralai.embeddings import MistralAIEmbeddings\n",
    "from langchain_mistralai import MistralAIEmbeddings\n",
    "\n",
    "\n",
    "# https://api.python.langchain.com/en/latest/_modules/langchain_community/vectorstores/neo4j_vector.html#Neo4jVector.from_existing_graph\n",
    "# Initialize and return a Neo4jVector instance from an existing graph.\n",
    "vectorestore = Neo4jVector.from_existing_graph(\n",
    "    embedding=MistralAIEmbeddings(mistral_api_key=os.getenv(\"MISTRAL_API_KEY\")),\n",
    "    node_label=\"SoftwareSystem\",\n",
    "    embedding_node_property=\"embedding\",\n",
    "    text_node_properties=[\"name\", \"description\"],\n",
    "    index_name=\"SoftwareSystem_index\",\n",
    "    url=os.getenv(\"NEO4J_URI\"), username=os.getenv(\"NEO4J_USERNAME\"), password=os.getenv(\"NEO4J_PASSWORD\")\n",
    ")\n",
    "\n",
    "result = vectorestore.similarity_search(\"Slovenia\", k=1)\n"
   ]
  }
 ],
 "metadata": {
  "kernelspec": {
   "display_name": "Python 3 (ipykernel)",
   "language": "python",
   "name": "python3"
  },
  "language_info": {
   "codemirror_mode": {
    "name": "ipython",
    "version": 3
   },
   "file_extension": ".py",
   "mimetype": "text/x-python",
   "name": "python",
   "nbconvert_exporter": "python",
   "pygments_lexer": "ipython3",
   "version": "3.12.1"
  }
 },
 "nbformat": 4,
 "nbformat_minor": 5
}
